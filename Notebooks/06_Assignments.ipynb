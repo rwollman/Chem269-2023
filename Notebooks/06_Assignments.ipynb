{
 "cells": [
  {
   "attachments": {},
   "cell_type": "markdown",
   "metadata": {},
   "source": [
    "## Assignemnt #1 - find genes with differential gene expression patterns. \n",
    "\n",
    "We want to find the genes that have statistically significant patterns of their gene expression levels. \n",
    "\n",
    "Define a measure that captures the idea of spatially varying gene expression. Think about it, there are many ways to do that. \n",
    "\n",
    "Hint: If expression pattern is uniform, what do you expect from two cells that are neighbors compared to cells that are not? \n",
    "\n",
    "Repeat your analysis taking into account cell types - test all five different cell type levels\n",
    "\n",
    "\n"
   ]
  },
  {
   "attachments": {},
   "cell_type": "markdown",
   "metadata": {},
   "source": [
    "## Assignment #2 - find clusters in the gene expression data. \n",
    "\n",
    "Cluster the data (after appropriate cleanup / transformation / dimensionlity reduction)\n",
    "\n",
    "Analyze the agreement between your clusters and the type levels provided by the Allen institute\n",
    "\n",
    "Idenitfy genes whos expression matches your grouping. \n",
    "\n",
    "Score for each cluster whether it is in proximity to other cells of the same type or not.  "
   ]
  },
  {
   "attachments": {},
   "cell_type": "markdown",
   "metadata": {},
   "source": [
    "## Assignemnt #3 - Find cell type association\n",
    "\n",
    "Create distance matrix of cell type association and cluster it to find which cell types are in spatial proximity to each other"
   ]
  },
  {
   "attachments": {},
   "cell_type": "markdown",
   "metadata": {},
   "source": [
    "## Work in class - Day 1 - Thursday\n",
    "\n",
    "## Key priority: \n",
    "\n",
    "### 1. load the data (requires to install anndata using conda)\n",
    "\n",
    "## Assignment #1:\n",
    "\n",
    "### 2. Create a small dataframe with X,Y,Gene1,Gene2 for a single Slice (see Notebook 05_TheData for help)\n",
    "\n",
    "### 3. Permutation test: think of the following - would local expression variability (sample of neighboring cells ) be the same as a random sample? \n",
    "\n",
    "### 4. How would you create a sample of local cells? How would you \"break\" that? \n",
    "\n",
    "### 5. Use the small data matrix you created to test any idea you created in 4 - how would yo vizualize it? \n",
    "\n",
    "## Assignemt #2: \n",
    "\n",
    "### 6. Feature selection - what genes do you want to use for clustering? How would you decide that? How would you plot that? \n",
    "\n",
    "### 7. Transformation - what transformation of the data could be useful? Do you even need to transform the data? How would you know? "
   ]
  },
  {
   "attachments": {},
   "cell_type": "markdown",
   "metadata": {},
   "source": [
    "## Work in class - Day 2 - Friday\n",
    "\n",
    "## Assignment #1: Use the code from Notebook 05 (shown below)\n",
    "\n"
   ]
  },
  {
   "cell_type": "code",
   "execution_count": 3,
   "metadata": {},
   "outputs": [],
   "source": [
    "import anndata\n",
    "import numpy as np\n",
    "from sklearn.neighbors import NearestNeighbors\n",
    "import matplotlib.pyplot as plt\n",
    "adata = anndata.read_h5ad('../Data/Brain_AllenData.h5ad')"
   ]
  },
  {
   "cell_type": "code",
   "execution_count": 2,
   "metadata": {},
   "outputs": [],
   "source": [
    "ix = adata.obs['Slice']=='C57BL6J-638850.44'\n",
    "xy=np.vstack((adata.obs['x'][ix],adata.obs['y'][ix])).T\n",
    "from sklearn.neighbors import NearestNeighbors\n",
    "\n",
    "k = 5  # or any other number you prefer\n",
    "nbrs = NearestNeighbors(n_neighbors=k, algorithm='ball_tree').fit(xy)\n",
    "distances, indices = nbrs.kneighbors(xy)"
   ]
  },
  {
   "attachments": {},
   "cell_type": "markdown",
   "metadata": {},
   "source": [
    "We can permute X and Y"
   ]
  },
  {
   "cell_type": "code",
   "execution_count": 8,
   "metadata": {},
   "outputs": [],
   "source": [
    "xy_perm = np.zeros_like(xy)\n",
    "xy_perm[:,0] = np.random.permutation(xy[:,0])\n",
    "xy_perm[:,1] = np.random.permutation(xy[:,1])\n",
    "\n",
    "nbrs_perm = NearestNeighbors(n_neighbors=k, algorithm='ball_tree').fit(xy_perm)\n",
    "distances_perm, indices_pern = nbrs_perm.kneighbors(xy_perm)"
   ]
  },
  {
   "cell_type": "code",
   "execution_count": 11,
   "metadata": {},
   "outputs": [
    {
     "data": {
      "image/png": "[encoded data removed]",
      "text/plain": [
       "<Figure size 640x480 with 1 Axes>"
      ]
     },
     "metadata": {},
     "output_type": "display_data"
    }
   ],
   "source": [
    "plt.hist(distances_perm[:,1],bins=50,range=[0,0.1]);"
   ]
  },
  {
   "attachments": {},
   "cell_type": "markdown",
   "metadata": {},
   "source": [
    "Think about how to use this code to create a permutation statistical test for the difference in gene expression"
   ]
  },
  {
   "cell_type": "code",
   "execution_count": null,
   "metadata": {},
   "outputs": [],
   "source": []
  }
 ],
 "metadata": {
  "kernelspec": {
   "display_name": "chem269",
   "language": "python",
   "name": "python3"
  },
  "language_info": {
   "codemirror_mode": {
    "name": "ipython",
    "version": 3
   },
   "file_extension": ".py",
   "mimetype": "text/x-python",
   "name": "python",
   "nbconvert_exporter": "python",
   "pygments_lexer": "ipython3",
   "version": "3.11.6"
  },
  "orig_nbformat": 4
 },
 "nbformat": 4,
 "nbformat_minor": 2
}
